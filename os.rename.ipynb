{
 "cells": [
  {
   "cell_type": "code",
   "execution_count": null,
   "metadata": {
    "scrolled": true
   },
   "outputs": [],
   "source": [
    "import os\n",
    "\n",
    "path = input('パス：')\n",
    "text = input('消したい文字列：')\n",
    "\n",
    "list1 = os.listdir(path)\n",
    "list2 = []\n",
    "\n",
    "for item in list1:\n",
    "    item_mod = item.replace(text, \"\")#文字列の置換\n",
    "    list2.append(item_mod)#リストに追加\n",
    "\n",
    "i = 0\n",
    "while len(list1) > i:\n",
    "    os.rename(os.path.join(path,list1[i]),os.path.join(path,list2[i]))\n",
    "    \n",
    "    i = i + 1\n",
    "    \n",
    "print('おしまい')"
   ]
  },
  {
   "cell_type": "code",
   "execution_count": null,
   "metadata": {},
   "outputs": [],
   "source": []
  }
 ],
 "metadata": {
  "kernelspec": {
   "display_name": "Python 3",
   "language": "python",
   "name": "python3"
  },
  "language_info": {
   "codemirror_mode": {
    "name": "ipython",
    "version": 3
   },
   "file_extension": ".py",
   "mimetype": "text/x-python",
   "name": "python",
   "nbconvert_exporter": "python",
   "pygments_lexer": "ipython3",
   "version": "3.7.3"
  },
  "toc": {
   "base_numbering": 1,
   "nav_menu": {},
   "number_sections": true,
   "sideBar": true,
   "skip_h1_title": false,
   "title_cell": "Table of Contents",
   "title_sidebar": "Contents",
   "toc_cell": false,
   "toc_position": {},
   "toc_section_display": true,
   "toc_window_display": false
  }
 },
 "nbformat": 4,
 "nbformat_minor": 2
}
